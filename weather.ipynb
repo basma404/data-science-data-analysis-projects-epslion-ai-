{
  "nbformat": 4,
  "nbformat_minor": 0,
  "metadata": {
    "colab": {
      "provenance": [],
      "collapsed_sections": []
    },
    "kernelspec": {
      "name": "python3",
      "display_name": "Python 3"
    },
    "language_info": {
      "name": "python"
    }
  },
  "cells": [
    {
      "cell_type": "code",
      "metadata": {
        "id": "U-jti0EVXGSb"
      },
      "source": [
        "import requests\n",
        "import json \n",
        "from datetime import datetime"
      ],
      "execution_count": null,
      "outputs": []
    },
    {
      "cell_type": "code",
      "metadata": {
        "id": "-SEaDT42XMY8"
      },
      "source": [
        "response = requests.get('https://www.metaweather.com/api/location/1521894/')\n",
        "data = response.json()"
      ],
      "execution_count": null,
      "outputs": []
    },
    {
      "cell_type": "code",
      "metadata": {
        "colab": {
          "base_uri": "https://localhost:8080/"
        },
        "id": "B_iMhT86Xq5E",
        "outputId": "e9e08762-72f4-424a-9201-2cac1bd29fd0"
      },
      "source": [
        "print(data)"
      ],
      "execution_count": null,
      "outputs": [
        {
          "output_type": "stream",
          "name": "stdout",
          "text": [
            "{'consolidated_weather': [{'id': 5692689090609152, 'weather_state_name': 'Clear', 'weather_state_abbr': 'c', 'wind_direction_compass': 'NE', 'created': '2021-09-19T16:34:22.450022Z', 'applicable_date': '2021-09-19', 'min_temp': 21.625, 'max_temp': 36.065, 'the_temp': 34.54, 'wind_speed': 8.947293959028606, 'wind_direction': 37.997860674076115, 'air_pressure': 1013.5, 'humidity': 39, 'visibility': 14.650379284975742, 'predictability': 68}, {'id': 6260766857494528, 'weather_state_name': 'Clear', 'weather_state_abbr': 'c', 'wind_direction_compass': 'NNE', 'created': '2021-09-19T16:34:25.373446Z', 'applicable_date': '2021-09-20', 'min_temp': 22.35, 'max_temp': 38.87, 'the_temp': 36.215, 'wind_speed': 8.760775055547603, 'wind_direction': 16.832172081730306, 'air_pressure': 1013.5, 'humidity': 39, 'visibility': 14.6879722421061, 'predictability': 68}, {'id': 4856973515292672, 'weather_state_name': 'Clear', 'weather_state_abbr': 'c', 'wind_direction_compass': 'NNE', 'created': '2021-09-19T16:34:28.451851Z', 'applicable_date': '2021-09-21', 'min_temp': 23.455, 'max_temp': 38.1, 'the_temp': 36.105000000000004, 'wind_speed': 7.9671518596754956, 'wind_direction': 18.16585294884391, 'air_pressure': 1013.5, 'humidity': 39, 'visibility': 14.696982124393541, 'predictability': 68}, {'id': 6699342317486080, 'weather_state_name': 'Clear', 'weather_state_abbr': 'c', 'wind_direction_compass': 'NNW', 'created': '2021-09-19T16:34:31.453491Z', 'applicable_date': '2021-09-22', 'min_temp': 23.085, 'max_temp': 37.225, 'the_temp': 35.34, 'wind_speed': 8.320248670550653, 'wind_direction': 341.49220004016826, 'air_pressure': 1010.5, 'humidity': 40, 'visibility': 14.729293426389884, 'predictability': 68}, {'id': 5653070835875840, 'weather_state_name': 'Clear', 'weather_state_abbr': 'c', 'wind_direction_compass': 'NW', 'created': '2021-09-19T16:34:34.383714Z', 'applicable_date': '2021-09-23', 'min_temp': 22.965, 'max_temp': 35.980000000000004, 'the_temp': 33.980000000000004, 'wind_speed': 8.191323939558314, 'wind_direction': 322.3200050051788, 'air_pressure': 1011.0, 'humidity': 42, 'visibility': 14.803547283862244, 'predictability': 68}, {'id': 6596589251461120, 'weather_state_name': 'Clear', 'weather_state_abbr': 'c', 'wind_direction_compass': 'NNW', 'created': '2021-09-19T16:34:37.849162Z', 'applicable_date': '2021-09-24', 'min_temp': 21.865000000000002, 'max_temp': 33.275, 'the_temp': 29.92, 'wind_speed': 7.15340630716615, 'wind_direction': 333.0, 'air_pressure': 1012.0, 'humidity': 54, 'visibility': 9.999726596675416, 'predictability': 68}], 'time': '2021-09-19T20:08:18.740050+02:00', 'sun_rise': '2021-09-19T05:41:41.273050+02:00', 'sun_set': '2021-09-19T17:55:18.774507+02:00', 'timezone_name': 'LMT', 'parent': {'title': 'Egypt', 'location_type': 'Country', 'woeid': 23424802, 'latt_long': '26.837090,30.796391'}, 'sources': [{'title': 'BBC', 'slug': 'bbc', 'url': 'http://www.bbc.co.uk/weather/', 'crawl_rate': 360}, {'title': 'Forecast.io', 'slug': 'forecast-io', 'url': 'http://forecast.io/', 'crawl_rate': 480}, {'title': 'HAMweather', 'slug': 'hamweather', 'url': 'http://www.hamweather.com/', 'crawl_rate': 360}, {'title': 'Met Office', 'slug': 'met-office', 'url': 'http://www.metoffice.gov.uk/', 'crawl_rate': 180}, {'title': 'OpenWeatherMap', 'slug': 'openweathermap', 'url': 'http://openweathermap.org/', 'crawl_rate': 360}, {'title': 'Weather Underground', 'slug': 'wunderground', 'url': 'https://www.wunderground.com/?apiref=fc30dc3cd224e19b', 'crawl_rate': 720}, {'title': 'World Weather Online', 'slug': 'world-weather-online', 'url': 'http://www.worldweatheronline.com/', 'crawl_rate': 360}], 'title': 'Cairo', 'location_type': 'City', 'woeid': 1521894, 'latt_long': '30.049950,31.248600', 'timezone': 'Africa/Cairo'}\n"
          ]
        }
      ]
    },
    {
      "cell_type": "code",
      "metadata": {
        "id": "UqEXi06HRnh8"
      },
      "source": [
        "import csv"
      ],
      "execution_count": null,
      "outputs": []
    },
    {
      "cell_type": "code",
      "metadata": {
        "id": "_v_aCuDDbKL2"
      },
      "source": [
        "with open('weather.csv', 'w', newline='') as f:\n",
        "    writer = csv.DictWriter(f, fieldnames=['temp', 'wind_speed', 'air_pressure', 'humidity', 'visibility', 'datetime'])\n",
        "    writer.writeheader()\n",
        "    for weather_data in data['consolidated_weather']:\n",
        "        temp = weather_data['the_temp']\n",
        "        wind_speed = weather_data['wind_speed']\n",
        "        air_pressure = weather_data['air_pressure']\n",
        "        humidity = weather_data['humidity']\n",
        "        visibility = weather_data['visibility']\n",
        "        datetime = weather_data['created']\n",
        "        writer.writerow({'temp': temp, 'wind_speed': wind_speed, 'air_pressure': air_pressure, 'humidity': humidity, 'visibility': visibility, 'datetime': datetime})"
      ],
      "execution_count": null,
      "outputs": []
    },
    {
      "cell_type": "code",
      "metadata": {
        "id": "WI31_k6RlrSz",
        "colab": {
          "base_uri": "https://localhost:8080/",
          "height": 236
        },
        "outputId": "6b391284-bf04-47d5-86fb-43cb21950e60"
      },
      "source": [
        "import pandas as pd\n",
        "\n",
        "data = pd.read_csv('weather.csv')\n",
        "data"
      ],
      "execution_count": null,
      "outputs": [
        {
          "output_type": "execute_result",
          "data": {
            "text/html": [
              "<div>\n",
              "<style scoped>\n",
              "    .dataframe tbody tr th:only-of-type {\n",
              "        vertical-align: middle;\n",
              "    }\n",
              "\n",
              "    .dataframe tbody tr th {\n",
              "        vertical-align: top;\n",
              "    }\n",
              "\n",
              "    .dataframe thead th {\n",
              "        text-align: right;\n",
              "    }\n",
              "</style>\n",
              "<table border=\"1\" class=\"dataframe\">\n",
              "  <thead>\n",
              "    <tr style=\"text-align: right;\">\n",
              "      <th></th>\n",
              "      <th>temp</th>\n",
              "      <th>wind_speed</th>\n",
              "      <th>air_pressure</th>\n",
              "      <th>humidity</th>\n",
              "      <th>visibility</th>\n",
              "      <th>datetime</th>\n",
              "    </tr>\n",
              "  </thead>\n",
              "  <tbody>\n",
              "    <tr>\n",
              "      <th>0</th>\n",
              "      <td>34.540</td>\n",
              "      <td>8.947294</td>\n",
              "      <td>1013.5</td>\n",
              "      <td>39</td>\n",
              "      <td>14.650379</td>\n",
              "      <td>2021-09-19T16:34:22.450022Z</td>\n",
              "    </tr>\n",
              "    <tr>\n",
              "      <th>1</th>\n",
              "      <td>36.215</td>\n",
              "      <td>8.760775</td>\n",
              "      <td>1013.5</td>\n",
              "      <td>39</td>\n",
              "      <td>14.687972</td>\n",
              "      <td>2021-09-19T16:34:25.373446Z</td>\n",
              "    </tr>\n",
              "    <tr>\n",
              "      <th>2</th>\n",
              "      <td>36.105</td>\n",
              "      <td>7.967152</td>\n",
              "      <td>1013.5</td>\n",
              "      <td>39</td>\n",
              "      <td>14.696982</td>\n",
              "      <td>2021-09-19T16:34:28.451851Z</td>\n",
              "    </tr>\n",
              "    <tr>\n",
              "      <th>3</th>\n",
              "      <td>35.340</td>\n",
              "      <td>8.320249</td>\n",
              "      <td>1010.5</td>\n",
              "      <td>40</td>\n",
              "      <td>14.729293</td>\n",
              "      <td>2021-09-19T16:34:31.453491Z</td>\n",
              "    </tr>\n",
              "    <tr>\n",
              "      <th>4</th>\n",
              "      <td>33.980</td>\n",
              "      <td>8.191324</td>\n",
              "      <td>1011.0</td>\n",
              "      <td>42</td>\n",
              "      <td>14.803547</td>\n",
              "      <td>2021-09-19T16:34:34.383714Z</td>\n",
              "    </tr>\n",
              "    <tr>\n",
              "      <th>5</th>\n",
              "      <td>29.920</td>\n",
              "      <td>7.153406</td>\n",
              "      <td>1012.0</td>\n",
              "      <td>54</td>\n",
              "      <td>9.999727</td>\n",
              "      <td>2021-09-19T16:34:37.849162Z</td>\n",
              "    </tr>\n",
              "  </tbody>\n",
              "</table>\n",
              "</div>"
            ],
            "text/plain": [
              "     temp  wind_speed  ...  visibility                     datetime\n",
              "0  34.540    8.947294  ...   14.650379  2021-09-19T16:34:22.450022Z\n",
              "1  36.215    8.760775  ...   14.687972  2021-09-19T16:34:25.373446Z\n",
              "2  36.105    7.967152  ...   14.696982  2021-09-19T16:34:28.451851Z\n",
              "3  35.340    8.320249  ...   14.729293  2021-09-19T16:34:31.453491Z\n",
              "4  33.980    8.191324  ...   14.803547  2021-09-19T16:34:34.383714Z\n",
              "5  29.920    7.153406  ...    9.999727  2021-09-19T16:34:37.849162Z\n",
              "\n",
              "[6 rows x 6 columns]"
            ]
          },
          "metadata": {},
          "execution_count": 7
        }
      ]
    }
  ]
}