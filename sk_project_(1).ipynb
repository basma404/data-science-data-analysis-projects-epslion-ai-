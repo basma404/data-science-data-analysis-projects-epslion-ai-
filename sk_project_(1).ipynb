{
  "metadata": {
    "kernelspec": {
      "language": "python",
      "display_name": "Python 3",
      "name": "python3"
    },
    "language_info": {
      "name": "python",
      "version": "3.7.10",
      "mimetype": "text/x-python",
      "codemirror_mode": {
        "name": "ipython",
        "version": 3
      },
      "pygments_lexer": "ipython3",
      "nbconvert_exporter": "python",
      "file_extension": ".py"
    },
    "colab": {
      "provenance": []
    }
  },
  "nbformat_minor": 0,
  "nbformat": 4,
  "cells": [
    {
      "cell_type": "code",
      "source": [
        "# This Python 3 environment comes with many helpful analytics libraries installed\n",
        "# It is defined by the kaggle/python Docker image: https://github.com/kaggle/docker-python\n",
        "# For example, here's several helpful packages to load\n",
        "\n",
        "import numpy as np # linear algebra\n",
        "import pandas as pd # data processing, CSV file I/O (e.g. pd.read_csv)\n",
        "\n",
        "# Input data files are available in the read-only \"../input/\" directory\n",
        "# For example, running this (by clicking run or pressing Shift+Enter) will list all files under the input directory\n",
        "\n",
        "import os\n",
        "for dirname, _, filenames in os.walk('/kaggle/input'):\n",
        "    for filename in filenames:\n",
        "        print(os.path.join(dirname, filename))\n",
        "\n",
        "# You can write up to 20GB to the current directory (/kaggle/working/) that gets preserved as output when you create a version using \"Save & Run All\" \n",
        "# You can also write temporary files to /kaggle/temp/, but they won't be saved outside of the current session"
      ],
      "metadata": {
        "_uuid": "8f2839f25d086af736a60e9eeb907d3b93b6e0e5",
        "_cell_guid": "b1076dfc-b9ad-4769-8c92-a6c4dae69d19",
        "execution": {
          "iopub.status.busy": "2021-11-12T00:18:23.582717Z",
          "iopub.execute_input": "2021-11-12T00:18:23.583018Z",
          "iopub.status.idle": "2021-11-12T00:18:23.595241Z",
          "shell.execute_reply.started": "2021-11-12T00:18:23.582987Z",
          "shell.execute_reply": "2021-11-12T00:18:23.594302Z"
        },
        "trusted": true,
        "id": "dB6PQE84x7JG"
      },
      "execution_count": null,
      "outputs": []
    },
    {
      "cell_type": "markdown",
      "source": [
        "EDA of Kickstarter Projects\n",
        "\n",
        "Kickstarter is an American public-benefit corporation based in Brooklyn, New York, that maintains a global crowdfunding platform focused on creativity and merchandising. The company's stated mission is to \"help bring creative projects to life\"\n",
        "\n",
        "In this exploratory data analysis I will try to find out a few interesting insights."
      ],
      "metadata": {
        "id": "otyNdVAOx7JP"
      }
    },
    {
      "cell_type": "code",
      "source": [
        "import pandas as pd\n",
        "import matplotlib.pyplot as plt\n",
        "import seaborn as sns\n",
        "%matplotlib inline\n",
        "import plotly\n",
        "from plotly import tools\n",
        "from plotly.offline import init_notebook_mode, iplot\n",
        "import plotly.graph_objs as go\n",
        "init_notebook_mode(connected=True)\n",
        "import warnings\n",
        "warnings.filterwarnings('ignore')"
      ],
      "metadata": {
        "execution": {
          "iopub.status.busy": "2021-11-12T00:18:23.597307Z",
          "iopub.execute_input": "2021-11-12T00:18:23.598445Z",
          "iopub.status.idle": "2021-11-12T00:18:23.616262Z",
          "shell.execute_reply.started": "2021-11-12T00:18:23.598394Z",
          "shell.execute_reply": "2021-11-12T00:18:23.614949Z"
        },
        "trusted": true,
        "id": "j_r3n4S6x7JT"
      },
      "execution_count": null,
      "outputs": []
    },
    {
      "cell_type": "code",
      "source": [
        "df = pd.read_csv('../input/kickstarter-projects/ks-projects-201801.csv')\n",
        "df"
      ],
      "metadata": {
        "execution": {
          "iopub.status.busy": "2021-11-12T00:18:23.617756Z",
          "iopub.execute_input": "2021-11-12T00:18:23.618048Z",
          "iopub.status.idle": "2021-11-12T00:18:25.486513Z",
          "shell.execute_reply.started": "2021-11-12T00:18:23.618011Z",
          "shell.execute_reply": "2021-11-12T00:18:25.485691Z"
        },
        "trusted": true,
        "id": "Olny7-aYx7JU"
      },
      "execution_count": null,
      "outputs": []
    },
    {
      "cell_type": "code",
      "source": [
        "df['deadline']=pd.to_datetime(df['deadline'], format=\"%Y/%m/%d\").dt.date\n",
        "df['launched']=pd.to_datetime(df['launched'], format=\"%Y/%m/%d\").dt.date\n",
        "df.head(5)"
      ],
      "metadata": {
        "execution": {
          "iopub.status.busy": "2021-11-12T00:18:25.488886Z",
          "iopub.execute_input": "2021-11-12T00:18:25.489992Z",
          "iopub.status.idle": "2021-11-12T00:18:26.220589Z",
          "shell.execute_reply.started": "2021-11-12T00:18:25.489941Z",
          "shell.execute_reply": "2021-11-12T00:18:26.219648Z"
        },
        "trusted": true,
        "id": "X1IZ0f8ox7JV"
      },
      "execution_count": null,
      "outputs": []
    },
    {
      "cell_type": "code",
      "source": [
        "df = df.drop(['ID','goal','pledged','usd_pledged_real'],1)# cleaninng data \n",
        "df['duration(days)'] = (df['deadline'] - df['launched']).dt.days # to count number of days taken \n",
        "df['launch_year']=pd.to_datetime(df['launched'], format=\"%Y/%m/%d\").dt.year\n",
        "df.head()"
      ],
      "metadata": {
        "execution": {
          "iopub.status.busy": "2021-11-12T00:18:26.221888Z",
          "iopub.execute_input": "2021-11-12T00:18:26.222108Z",
          "iopub.status.idle": "2021-11-12T00:18:27.857061Z",
          "shell.execute_reply.started": "2021-11-12T00:18:26.222081Z",
          "shell.execute_reply": "2021-11-12T00:18:27.856311Z"
        },
        "trusted": true,
        "id": "eJ_QxxWMx7JW"
      },
      "execution_count": null,
      "outputs": []
    },
    {
      "cell_type": "code",
      "source": [
        "df['state'].describe() # top is failed"
      ],
      "metadata": {
        "execution": {
          "iopub.status.busy": "2021-11-12T00:18:27.858205Z",
          "iopub.execute_input": "2021-11-12T00:18:27.858495Z",
          "iopub.status.idle": "2021-11-12T00:18:27.967438Z",
          "shell.execute_reply.started": "2021-11-12T00:18:27.858465Z",
          "shell.execute_reply": "2021-11-12T00:18:27.966382Z"
        },
        "trusted": true,
        "id": "Fv-jEI-ox7JZ"
      },
      "execution_count": null,
      "outputs": []
    },
    {
      "cell_type": "code",
      "source": [
        "import matplotlib.pyplot as plt\n",
        "import numpy as np\n",
        "import seaborn as sns\n",
        "sns.set(rc={'figure.figsize':[15,15]},font_scale=0.7)"
      ],
      "metadata": {
        "execution": {
          "iopub.status.busy": "2021-11-12T00:18:27.968634Z",
          "iopub.execute_input": "2021-11-12T00:18:27.968975Z",
          "iopub.status.idle": "2021-11-12T00:18:27.979476Z",
          "shell.execute_reply.started": "2021-11-12T00:18:27.968942Z",
          "shell.execute_reply": "2021-11-12T00:18:27.978868Z"
        },
        "trusted": true,
        "id": "UDkuDYN2x7Ja"
      },
      "execution_count": null,
      "outputs": []
    },
    {
      "cell_type": "markdown",
      "source": [
        "Distribution of state"
      ],
      "metadata": {
        "id": "mH7en_Stx7Jb"
      }
    },
    {
      "cell_type": "code",
      "source": [
        "sns.displot(df['state'],color='m')"
      ],
      "metadata": {
        "execution": {
          "iopub.status.busy": "2021-11-12T00:18:27.981925Z",
          "iopub.execute_input": "2021-11-12T00:18:27.982286Z",
          "iopub.status.idle": "2021-11-12T00:18:29.144029Z",
          "shell.execute_reply.started": "2021-11-12T00:18:27.982254Z",
          "shell.execute_reply": "2021-11-12T00:18:29.142890Z"
        },
        "trusted": true,
        "id": "Y7jJW5gnx7Jd"
      },
      "execution_count": null,
      "outputs": []
    },
    {
      "cell_type": "markdown",
      "source": [
        "Distribution of Main Categories"
      ],
      "metadata": {
        "id": "iuZhlk_tx7Je"
      }
    },
    {
      "cell_type": "code",
      "source": [
        "df['main_category'].describe() #top is Film & Video"
      ],
      "metadata": {
        "execution": {
          "iopub.status.busy": "2021-11-12T00:18:29.145386Z",
          "iopub.execute_input": "2021-11-12T00:18:29.145612Z",
          "iopub.status.idle": "2021-11-12T00:18:29.259486Z",
          "shell.execute_reply.started": "2021-11-12T00:18:29.145583Z",
          "shell.execute_reply": "2021-11-12T00:18:29.258527Z"
        },
        "trusted": true,
        "id": "HW66fMBBx7Je"
      },
      "execution_count": null,
      "outputs": []
    },
    {
      "cell_type": "code",
      "source": [
        "sns.displot(df['main_category'],color='r')"
      ],
      "metadata": {
        "execution": {
          "iopub.status.busy": "2021-11-12T00:18:29.260773Z",
          "iopub.execute_input": "2021-11-12T00:18:29.261011Z",
          "iopub.status.idle": "2021-11-12T00:18:30.540482Z",
          "shell.execute_reply.started": "2021-11-12T00:18:29.260982Z",
          "shell.execute_reply": "2021-11-12T00:18:30.539470Z"
        },
        "trusted": true,
        "id": "FRogUkyCx7Jf"
      },
      "execution_count": null,
      "outputs": []
    },
    {
      "cell_type": "code",
      "source": [
        "main_cat = df.main_category.value_counts()\n",
        "go1 = go.Bar(\n",
        "            x=main_cat.index,\n",
        "            y=main_cat.values,\n",
        "            marker=dict(\n",
        "                color='rgb(158,202,225)',\n",
        "                line=dict(\n",
        "                    color='rgb(8,48,107)',\n",
        "                    width=1.5),\n",
        "            ),\n",
        "            opacity=0.6\n",
        "        )\n",
        "\n",
        "data = [go1]\n",
        "layout=go.Layout(title=\"Distribution of main_category\", xaxis={'title':'main_category'}, yaxis={'title':'main_category'}, width=600, height=400)\n",
        "figure=go.Figure(data=data,layout=layout)\n",
        "iplot(figure)"
      ],
      "metadata": {
        "execution": {
          "iopub.status.busy": "2021-11-12T00:18:30.542464Z",
          "iopub.execute_input": "2021-11-12T00:18:30.542781Z",
          "iopub.status.idle": "2021-11-12T00:18:30.643633Z",
          "shell.execute_reply.started": "2021-11-12T00:18:30.542736Z",
          "shell.execute_reply": "2021-11-12T00:18:30.643057Z"
        },
        "trusted": true,
        "id": "IPCqrrYOx7Jg"
      },
      "execution_count": null,
      "outputs": []
    },
    {
      "cell_type": "markdown",
      "source": [
        "Distribution of Categories"
      ],
      "metadata": {
        "id": "3dYHhkVTx7Jh"
      }
    },
    {
      "cell_type": "code",
      "source": [
        "sns.displot(df['category'])"
      ],
      "metadata": {
        "execution": {
          "iopub.status.busy": "2021-11-12T00:18:30.644784Z",
          "iopub.execute_input": "2021-11-12T00:18:30.645159Z",
          "iopub.status.idle": "2021-11-12T00:18:39.999322Z",
          "shell.execute_reply.started": "2021-11-12T00:18:30.645115Z",
          "shell.execute_reply": "2021-11-12T00:18:39.998738Z"
        },
        "trusted": true,
        "id": "bWTvqibZx7Jh"
      },
      "execution_count": null,
      "outputs": []
    },
    {
      "cell_type": "markdown",
      "source": [
        "of just 20 categories"
      ],
      "metadata": {
        "id": "sMaU9VEix7Jh"
      }
    },
    {
      "cell_type": "code",
      "source": [
        "go1 = go.Bar(\n",
        "            x=df.category.value_counts()[:20].index,\n",
        "            y=df.category.value_counts()[:20].values,\n",
        "            marker=dict(\n",
        "                color='rgb(158,202,225)',\n",
        "                line=dict(\n",
        "                    color='rgb(8,48,107)',\n",
        "                    width=1.5),\n",
        "            ),\n",
        "            opacity=0.6\n",
        "        )\n",
        "data = [go1]\n",
        "layout=go.Layout(title=\"Distribution of Top 20 Categories\", xaxis={'title':'Category'}, yaxis={'title':'No of Campaigns'}, width=600, height=400)\n",
        "figure=go.Figure(data=data,layout=layout)\n",
        "iplot(figure)"
      ],
      "metadata": {
        "execution": {
          "iopub.status.busy": "2021-11-12T00:18:40.000420Z",
          "iopub.execute_input": "2021-11-12T00:18:40.001155Z",
          "iopub.status.idle": "2021-11-12T00:18:40.157882Z",
          "shell.execute_reply.started": "2021-11-12T00:18:40.001116Z",
          "shell.execute_reply": "2021-11-12T00:18:40.157049Z"
        },
        "trusted": true,
        "id": "jqBrCLOAx7Ji"
      },
      "execution_count": null,
      "outputs": []
    },
    {
      "cell_type": "markdown",
      "source": [
        "Distribution of Countries\n",
        "\n"
      ],
      "metadata": {
        "id": "0xEPOEA9x7Jj"
      }
    },
    {
      "cell_type": "code",
      "source": [
        "sns.displot(df['country'],color='g')"
      ],
      "metadata": {
        "execution": {
          "iopub.status.busy": "2021-11-12T00:18:40.159342Z",
          "iopub.execute_input": "2021-11-12T00:18:40.159584Z",
          "iopub.status.idle": "2021-11-12T00:18:41.873353Z",
          "shell.execute_reply.started": "2021-11-12T00:18:40.159553Z",
          "shell.execute_reply": "2021-11-12T00:18:41.872452Z"
        },
        "trusted": true,
        "id": "gpt9aVS-x7Jj"
      },
      "execution_count": null,
      "outputs": []
    },
    {
      "cell_type": "markdown",
      "source": [
        "Campaign Distribution over Years\n",
        "\n"
      ],
      "metadata": {
        "id": "rhd4e0vhx7Jk"
      }
    },
    {
      "cell_type": "code",
      "source": [
        "df['launch_year']=pd.to_datetime(df['launched'], format=\"%Y/%m/%d\").dt.year\n"
      ],
      "metadata": {
        "execution": {
          "iopub.status.busy": "2021-11-12T00:18:41.875307Z",
          "iopub.execute_input": "2021-11-12T00:18:41.875567Z",
          "iopub.status.idle": "2021-11-12T00:18:41.980915Z",
          "shell.execute_reply.started": "2021-11-12T00:18:41.875535Z",
          "shell.execute_reply": "2021-11-12T00:18:41.980032Z"
        },
        "trusted": true,
        "id": "9tugO7Vax7Jk"
      },
      "execution_count": null,
      "outputs": []
    },
    {
      "cell_type": "code",
      "source": [
        "vs = sns.countplot(df.launch_year)\n",
        "plt.xlabel(\"Year\")\n",
        "plt.ylabel(\"Number of Campaigns\")\n",
        "plt.title('\"Number of Campaigns vs year')\n",
        "plt.show(vs)"
      ],
      "metadata": {
        "execution": {
          "iopub.status.busy": "2021-11-12T00:18:41.982109Z",
          "iopub.execute_input": "2021-11-12T00:18:41.982350Z",
          "iopub.status.idle": "2021-11-12T00:18:42.350374Z",
          "shell.execute_reply.started": "2021-11-12T00:18:41.982320Z",
          "shell.execute_reply": "2021-11-12T00:18:42.349647Z"
        },
        "trusted": true,
        "id": "fAxjPx0Sx7Jl"
      },
      "execution_count": null,
      "outputs": []
    },
    {
      "cell_type": "code",
      "source": [
        "df"
      ],
      "metadata": {
        "execution": {
          "iopub.status.busy": "2021-11-12T00:18:42.351314Z",
          "iopub.execute_input": "2021-11-12T00:18:42.351545Z",
          "iopub.status.idle": "2021-11-12T00:18:42.379793Z",
          "shell.execute_reply.started": "2021-11-12T00:18:42.351514Z",
          "shell.execute_reply": "2021-11-12T00:18:42.378857Z"
        },
        "trusted": true,
        "id": "KHdKbrbDx7Jm"
      },
      "execution_count": null,
      "outputs": []
    },
    {
      "cell_type": "markdown",
      "source": [
        "Mean duration of Failed, Successful and Cancelled Campaigns\n",
        "\n"
      ],
      "metadata": {
        "id": "QID8n-66x7Jm"
      }
    },
    {
      "cell_type": "code",
      "source": [
        "failed = df.loc[df.state=='failed']\n",
        "successful = df.loc[df.state=='successful']\n",
        "canceled = df.loc[df.state=='canceled']\n",
        "print('Mean duration of failed campaigns',failed['duration(days)'].mean())\n",
        "print('Mean duration of successful campaigns',successful['duration(days)'].mean())\n",
        "print('Mean duration of canceled campaigns',canceled['duration(days)'].mean())"
      ],
      "metadata": {
        "execution": {
          "iopub.status.busy": "2021-11-12T00:18:42.380741Z",
          "iopub.execute_input": "2021-11-12T00:18:42.381014Z",
          "iopub.status.idle": "2021-11-12T00:18:42.689139Z",
          "shell.execute_reply.started": "2021-11-12T00:18:42.380983Z",
          "shell.execute_reply": "2021-11-12T00:18:42.688159Z"
        },
        "trusted": true,
        "id": "LI3MqvAsx7Jm"
      },
      "execution_count": null,
      "outputs": []
    },
    {
      "cell_type": "code",
      "source": [
        "df"
      ],
      "metadata": {
        "execution": {
          "iopub.status.busy": "2021-11-12T00:18:42.690391Z",
          "iopub.execute_input": "2021-11-12T00:18:42.690668Z",
          "iopub.status.idle": "2021-11-12T00:18:42.719112Z",
          "shell.execute_reply.started": "2021-11-12T00:18:42.690638Z",
          "shell.execute_reply": "2021-11-12T00:18:42.718052Z"
        },
        "trusted": true,
        "id": "pNFSZN8fx7Jn"
      },
      "execution_count": null,
      "outputs": []
    },
    {
      "cell_type": "markdown",
      "source": [
        "Distribution of main categories in Sucessful & Failed Campaigns\n",
        "\n"
      ],
      "metadata": {
        "id": "Uq4eRIiXx7Jn"
      }
    },
    {
      "cell_type": "code",
      "source": [
        "trace1 = go.Bar(\n",
        "            x=successful.category.value_counts()[:20].index,\n",
        "            y=successful.category.value_counts()[:20].values,\n",
        "            opacity=0.65\n",
        "        )\n",
        "\n",
        "trace2 = go.Bar(\n",
        "            x=failed.category.value_counts()[:20].index,\n",
        "            y=failed.category.value_counts()[:20].values,\n",
        "            opacity=0.65\n",
        "        )\n",
        "\n",
        "fig = tools.make_subplots(rows=1, cols=2, subplot_titles=('Successful', 'Failed'))\n",
        "fig.append_trace(trace1, 1, 1)\n",
        "fig.append_trace(trace2, 1, 2)\n",
        "\n",
        "fig['layout'].update(height=300, width=900, title='Distribution of top 20 categories in Sucessful & Failed Campaigns')\n",
        "\n",
        "iplot(fig)"
      ],
      "metadata": {
        "execution": {
          "iopub.status.busy": "2021-11-12T00:18:42.723163Z",
          "iopub.execute_input": "2021-11-12T00:18:42.724010Z",
          "iopub.status.idle": "2021-11-12T00:18:42.900520Z",
          "shell.execute_reply.started": "2021-11-12T00:18:42.723953Z",
          "shell.execute_reply": "2021-11-12T00:18:42.899572Z"
        },
        "trusted": true,
        "id": "5bW3b-79x7Jo"
      },
      "execution_count": null,
      "outputs": []
    },
    {
      "cell_type": "markdown",
      "source": [],
      "metadata": {
        "id": "LH4iTzcwx7Jo"
      }
    },
    {
      "cell_type": "code",
      "source": [
        "successful.groupby(['main_category']).mean()\n"
      ],
      "metadata": {
        "execution": {
          "iopub.status.busy": "2021-11-12T00:18:42.902076Z",
          "iopub.execute_input": "2021-11-12T00:18:42.902513Z",
          "iopub.status.idle": "2021-11-12T00:18:42.952258Z",
          "shell.execute_reply.started": "2021-11-12T00:18:42.902476Z",
          "shell.execute_reply": "2021-11-12T00:18:42.951252Z"
        },
        "trusted": true,
        "id": "jgLgtmzCx7Jo"
      },
      "execution_count": null,
      "outputs": []
    },
    {
      "cell_type": "markdown",
      "source": [
        "Relation between Backers and Pledged Amount(USD)\n",
        "\n"
      ],
      "metadata": {
        "id": "whQqzi59x7Jp"
      }
    },
    {
      "cell_type": "code",
      "source": [
        "df"
      ],
      "metadata": {
        "execution": {
          "iopub.status.busy": "2021-11-12T00:18:42.953469Z",
          "iopub.execute_input": "2021-11-12T00:18:42.953701Z",
          "iopub.status.idle": "2021-11-12T00:18:42.984221Z",
          "shell.execute_reply.started": "2021-11-12T00:18:42.953670Z",
          "shell.execute_reply": "2021-11-12T00:18:42.983341Z"
        },
        "trusted": true,
        "id": "-U98_IfAx7Jp"
      },
      "execution_count": null,
      "outputs": []
    },
    {
      "cell_type": "code",
      "source": [
        "sns.regplot(x='backers',y='usd pledged', data=successful)\n"
      ],
      "metadata": {
        "execution": {
          "iopub.status.busy": "2021-11-12T00:18:42.985578Z",
          "iopub.execute_input": "2021-11-12T00:18:42.986548Z",
          "iopub.status.idle": "2021-11-12T00:18:55.897624Z",
          "shell.execute_reply.started": "2021-11-12T00:18:42.986505Z",
          "shell.execute_reply": "2021-11-12T00:18:55.896726Z"
        },
        "trusted": true,
        "id": "Rg3tRxyxx7Jq"
      },
      "execution_count": null,
      "outputs": []
    },
    {
      "cell_type": "markdown",
      "source": [
        "Relation between Duration(Days) and Pledged Amount(USD)\n",
        "\n"
      ],
      "metadata": {
        "id": "EwLOksiQx7Jq"
      }
    },
    {
      "cell_type": "code",
      "source": [
        "sns.regplot(x='usd pledged',y='duration(days)', data=successful)\n"
      ],
      "metadata": {
        "execution": {
          "iopub.status.busy": "2021-11-12T00:18:55.898852Z",
          "iopub.execute_input": "2021-11-12T00:18:55.899086Z",
          "iopub.status.idle": "2021-11-12T00:19:09.113396Z",
          "shell.execute_reply.started": "2021-11-12T00:18:55.899055Z",
          "shell.execute_reply": "2021-11-12T00:19:09.112462Z"
        },
        "trusted": true,
        "id": "8JTDApWSx7Jq"
      },
      "execution_count": null,
      "outputs": []
    },
    {
      "cell_type": "markdown",
      "source": [
        "Success Measure\n",
        "\n",
        "I have made another column called \"success_measure\" by dividing the Pledged Amount by the Goal of the Campaign which gives an idea of how many times the goal, the pledged amount was. But the issue was a lot of campaigns had weird goals like 10 or amounts such as 200. To consider only serious campaigns I eliminated any campaign whose goal was below the median goal of all the campaigns and after that I got a list of the 10 most successful campaigns in Kickstarter"
      ],
      "metadata": {
        "id": "WKNUj8rRx7Jr"
      }
    },
    {
      "cell_type": "code",
      "source": [
        "successful['success_measure'] = successful['usd pledged']/successful['usd_goal_real']\n",
        "successful_cleaned = successful[successful['usd_goal_real']>successful['usd_goal_real'].median()]\n",
        "successful_cleaned.nlargest(10,'success_measure')"
      ],
      "metadata": {
        "execution": {
          "iopub.status.busy": "2021-11-12T00:19:09.114791Z",
          "iopub.execute_input": "2021-11-12T00:19:09.115549Z",
          "iopub.status.idle": "2021-11-12T00:19:09.187241Z",
          "shell.execute_reply.started": "2021-11-12T00:19:09.115494Z",
          "shell.execute_reply": "2021-11-12T00:19:09.186400Z"
        },
        "trusted": true,
        "id": "21xmlJFvx7Jr"
      },
      "execution_count": null,
      "outputs": []
    },
    {
      "cell_type": "markdown",
      "source": [],
      "metadata": {
        "id": "HjrfS7Amx7Js"
      }
    }
  ]
}