{
  "nbformat": 4,
  "nbformat_minor": 0,
  "metadata": {
    "colab": {
      "provenance": [],
      "collapsed_sections": []
    },
    "kernelspec": {
      "name": "python3",
      "display_name": "Python 3"
    },
    "language_info": {
      "name": "python"
    }
  },
  "cells": [
    {
      "cell_type": "code",
      "metadata": {
        "id": "DA-oanuUSisb"
      },
      "source": [
        "class User:\n",
        "  def __init__(self,name,age,gender):\n",
        "    self.name=name\n",
        "    self.age=age\n",
        "    self.gender=gender\n",
        "  def show_details(self):\n",
        "    print(f'Name :{self.name}')\n",
        "    print(f'Age:{self.age}')\n",
        "    print(f'Gender:{self.gender}')\n"
      ],
      "execution_count": null,
      "outputs": []
    },
    {
      "cell_type": "code",
      "metadata": {
        "id": "ptrkZb095hjY"
      },
      "source": [
        "user_1 =User('basma',21,'female')"
      ],
      "execution_count": null,
      "outputs": []
    },
    {
      "cell_type": "code",
      "metadata": {
        "colab": {
          "base_uri": "https://localhost:8080/"
        },
        "id": "hpWMq6Hm5zy8",
        "outputId": "b3aeba3f-ae7f-4fa6-8e89-0e1b92264564"
      },
      "source": [
        "user_1 . show_details()"
      ],
      "execution_count": null,
      "outputs": [
        {
          "output_type": "stream",
          "name": "stdout",
          "text": [
            "Name :basma\n",
            "Age:21\n",
            "Gender:female\n"
          ]
        }
      ]
    },
    {
      "cell_type": "code",
      "metadata": {
        "id": "RvIiSaoWcGz9"
      },
      "source": [
        "class Bank(User):\n",
        "  def __init__(self,name,age,gender):\n",
        "    User.__init__(self,name,age,gender)\n",
        "    self.balance=0 \n",
        "  def deposit(self,amount):\n",
        "    self.balance = self.balance + amount  \n",
        "    print(\"new acc balance\",self.balance)\n",
        "  def withdraw(self,amount):\n",
        "      if amount <= self.balance:\n",
        "           self.balance = self.balance - amount\n",
        "           print('the opperation done')\n",
        "           print('your new balance after update is',self.balance)\n",
        "      else:\n",
        "           print('not allowed','avaliable balance is =',self.balance)\n",
        "  def view_balance(self):\n",
        "      print('your balance is =',self.balance)\n",
        "\n",
        "    "
      ],
      "execution_count": null,
      "outputs": []
    },
    {
      "cell_type": "markdown",
      "metadata": {
        "id": "9DUVybP8K_mf"
      },
      "source": []
    },
    {
      "cell_type": "code",
      "metadata": {
        "id": "K_0xccRVELH2",
        "colab": {
          "base_uri": "https://localhost:8080/"
        },
        "outputId": "3bc612b5-0485-4a09-d899-077d67e1c095"
      },
      "source": [
        "user_2 = Bank('basma',21,'female')\n",
        "user_2.show_details()"
      ],
      "execution_count": null,
      "outputs": [
        {
          "output_type": "stream",
          "name": "stdout",
          "text": [
            "Name :basma\n",
            "Age:21\n",
            "Gender:female\n"
          ]
        }
      ]
    },
    {
      "cell_type": "code",
      "metadata": {
        "id": "L7WxYk7iGNTU"
      },
      "source": [],
      "execution_count": null,
      "outputs": []
    },
    {
      "cell_type": "code",
      "metadata": {
        "colab": {
          "base_uri": "https://localhost:8080/"
        },
        "id": "7FnnL6FiGF9c",
        "outputId": "fb015e6b-d9e2-41ee-ffb8-de4771557e48"
      },
      "source": [
        "user_2 . show_details()"
      ],
      "execution_count": null,
      "outputs": [
        {
          "output_type": "stream",
          "text": [
            "Name :basma\n",
            "Age:21\n",
            "Gender:female\n"
          ],
          "name": "stdout"
        }
      ]
    },
    {
      "cell_type": "code",
      "metadata": {
        "id": "ibOFi0piMRvX"
      },
      "source": [],
      "execution_count": null,
      "outputs": []
    },
    {
      "cell_type": "code",
      "metadata": {
        "colab": {
          "base_uri": "https://localhost:8080/"
        },
        "id": "npgb3c13GPSJ",
        "outputId": "7f5c8d5f-94f8-4a5b-a108-e14425066838"
      },
      "source": [
        "user_2.deposit(3000)\n"
      ],
      "execution_count": null,
      "outputs": [
        {
          "output_type": "stream",
          "name": "stdout",
          "text": [
            "new acc balance 3000\n"
          ]
        }
      ]
    },
    {
      "cell_type": "code",
      "metadata": {
        "colab": {
          "base_uri": "https://localhost:8080/"
        },
        "id": "jqAuOmO5I-Bw",
        "outputId": "1635f972-5f4c-4e14-a2da-be31db63b7dd"
      },
      "source": [
        "user_2.view_balance()\n"
      ],
      "execution_count": null,
      "outputs": [
        {
          "output_type": "stream",
          "name": "stdout",
          "text": [
            "your balance is = 3000\n"
          ]
        }
      ]
    },
    {
      "cell_type": "code",
      "metadata": {
        "colab": {
          "base_uri": "https://localhost:8080/"
        },
        "id": "ptpijPhfGPpr",
        "outputId": "32c8c606-f276-4f4a-8481-0ed98afb176f"
      },
      "source": [
        "user_2.withdraw(1000)\n"
      ],
      "execution_count": null,
      "outputs": [
        {
          "output_type": "stream",
          "name": "stdout",
          "text": [
            "the opperation done\n",
            "your new balance after update is 2000\n"
          ]
        }
      ]
    },
    {
      "cell_type": "markdown",
      "metadata": {
        "id": "dB4sO27WjOsf"
      },
      "source": []
    },
    {
      "cell_type": "code",
      "metadata": {
        "colab": {
          "base_uri": "https://localhost:8080/"
        },
        "id": "hw2PIqxrZVrp",
        "outputId": "d96d3da7-a6e4-429a-cc7c-0ee56ab8516b"
      },
      "source": [
        "def main ():\n",
        "    name=input('enter your name :')\n",
        "    age=int(input('enter your age :'))\n",
        "    gender=input('enter your gender :')\n",
        "    bank_user=Bank(name,age,gender)\n",
        "    while True:\n",
        "      print(\"1 to show all details account \\n \\\n",
        "             2 to show account balance \\n \\\n",
        "             3 to withdraw \\n \\\n",
        "             4 to deposit \\n \\\n",
        "             0 to exit from the system \")\n",
        "      \n",
        "      user_input=int(input())\n",
        "      if user_input ==1:\n",
        "        bank_user.show_details()\n",
        "      elif user_input==2:\n",
        "        bank_user.view_balance() \n",
        "\n",
        "      elif user_input==3:\n",
        "         amount = float(input(\"Enter the amount : \"))\n",
        "         bank_user.withdraw(amount)\n",
        "\n",
        "      elif user_input==4:\n",
        "          amount = float(input(\"Enter the amount : \"))\n",
        "          bank_user.deposit(amount)\n",
        "\n",
        "      if user_input==0:\n",
        "          break\n",
        "\n",
        "\n",
        "main()        "
      ],
      "execution_count": null,
      "outputs": [
        {
          "name": "stdout",
          "output_type": "stream",
          "text": [
            "enter your name :hussein\n",
            "enter your age :22\n",
            "enter your gender :male \n",
            "1 to show all details account \n",
            "              2 to show account balance \n",
            "              3 to withdraw \n",
            "              4 to deposit \n",
            "              0 to exit from the system \n",
            "1\n",
            "Name :hussein\n",
            "Age:22\n",
            "Gender:male \n",
            "1 to show all details account \n",
            "              2 to show account balance \n",
            "              3 to withdraw \n",
            "              4 to deposit \n",
            "              0 to exit from the system \n",
            "4\n",
            "Enter the amount : 3800\n",
            "new acc balance 3800.0\n",
            "1 to show all details account \n",
            "              2 to show account balance \n",
            "              3 to withdraw \n",
            "              4 to deposit \n",
            "              0 to exit from the system \n",
            "2\n",
            "your balance is = 3800.0\n",
            "1 to show all details account \n",
            "              2 to show account balance \n",
            "              3 to withdraw \n",
            "              4 to deposit \n",
            "              0 to exit from the system \n",
            "3\n",
            "Enter the amount : 950\n",
            "the opperation done\n",
            "your new balance after update is 2850.0\n",
            "1 to show all details account \n",
            "              2 to show account balance \n",
            "              3 to withdraw \n",
            "              4 to deposit \n",
            "              0 to exit from the system \n",
            "0\n"
          ]
        }
      ]
    },
    {
      "cell_type": "code",
      "metadata": {
        "id": "LRBJ5gZK_EvY"
      },
      "source": [],
      "execution_count": null,
      "outputs": []
    }
  ]
}