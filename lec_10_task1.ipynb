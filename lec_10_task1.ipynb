{
  "nbformat": 4,
  "nbformat_minor": 0,
  "metadata": {
    "colab": {
      "provenance": [],
      "collapsed_sections": []
    },
    "kernelspec": {
      "name": "python3",
      "display_name": "Python 3"
    },
    "language_info": {
      "name": "python"
    }
  },
  "cells": [
    {
      "cell_type": "code",
      "metadata": {
        "id": "dkL2QQYYAdMA"
      },
      "source": [
        "import requests\n",
        "from bs4 import BeautifulSoup"
      ],
      "execution_count": null,
      "outputs": []
    },
    {
      "cell_type": "code",
      "metadata": {
        "id": "h566egK0ArvB"
      },
      "source": [
        "responce=requests.get('https://www.exchangerates.org.uk/Dollars-to-Egyptian-Pounds-currency-conversion-page.html')\n",
        "print(responce.text)"
      ],
      "execution_count": null,
      "outputs": []
    },
    {
      "cell_type": "code",
      "metadata": {
        "id": "9vAfcyOZBX6n"
      },
      "source": [
        "soup=BeautifulSoup(responce.text,'html.parser')\n"
      ],
      "execution_count": null,
      "outputs": []
    },
    {
      "cell_type": "code",
      "metadata": {
        "colab": {
          "base_uri": "https://localhost:8080/"
        },
        "id": "-JR51SXPfwsN",
        "outputId": "36744bf0-15c9-42ae-d169-170a45897604"
      },
      "source": [
        "file_name=soup.find('title').text\n",
        "print(file_name)"
      ],
      "execution_count": null,
      "outputs": [
        {
          "output_type": "stream",
          "name": "stdout",
          "text": [
            "Dollar to Egyptian Pound Exchange Rate Today, Live 1 USD to EGP = 15.7154 (Convert Dollars to Egyptian Pounds)\n"
          ]
        }
      ]
    },
    {
      "cell_type": "code",
      "metadata": {
        "colab": {
          "base_uri": "https://localhost:8080/"
        },
        "id": "aHmqk9aG5EE8",
        "outputId": "42472f84-e747-4ffb-bf20-6f084f598145"
      },
      "source": [
        "egp=float(soup.find(span='',attrs={'id':\"shd2b;\"}).text)\n",
        "print(egp) \n"
      ],
      "execution_count": null,
      "outputs": [
        {
          "output_type": "stream",
          "name": "stdout",
          "text": [
            "15.7154\n"
          ]
        }
      ]
    },
    {
      "cell_type": "code",
      "metadata": {
        "id": "VkVOmRBTBxSp",
        "colab": {
          "base_uri": "https://localhost:8080/"
        },
        "outputId": "73e24117-c56b-4070-bf7d-281457b723da"
      },
      "source": [
        "usd=float(input('enter the amount of USD dollars : '))\n",
        "amount =egp*usd\n",
        "print(amount)"
      ],
      "execution_count": null,
      "outputs": [
        {
          "output_type": "stream",
          "name": "stdout",
          "text": [
            "enter the amount of USD dollars : 2\n",
            "31.4308\n"
          ]
        }
      ]
    }
  ]
}