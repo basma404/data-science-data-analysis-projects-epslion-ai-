{
  "nbformat": 4,
  "nbformat_minor": 0,
  "metadata": {
    "colab": {
      "provenance": [],
      "collapsed_sections": []
    },
    "kernelspec": {
      "name": "python3",
      "display_name": "Python 3"
    },
    "language_info": {
      "name": "python"
    }
  },
  "cells": [
    {
      "cell_type": "code",
      "metadata": {
        "id": "UhpaJwZNucvn"
      },
      "source": [
        "import requests\n",
        "import json"
      ],
      "execution_count": null,
      "outputs": []
    },
    {
      "cell_type": "code",
      "metadata": {
        "id": "1IM5Hi8uxeLb"
      },
      "source": [
        "response = requests.get('https://api.frankfurter.app/latest?amount=1&from=USD&to=EUR')\n",
        "data = response.json()"
      ],
      "execution_count": null,
      "outputs": []
    },
    {
      "cell_type": "code",
      "metadata": {
        "colab": {
          "base_uri": "https://localhost:8080/"
        },
        "id": "07h0To4-yB4s",
        "outputId": "16a98216-1957-4c3d-b34b-17b3fa7097a4"
      },
      "source": [
        "print(data)\n"
      ],
      "execution_count": null,
      "outputs": [
        {
          "output_type": "stream",
          "name": "stdout",
          "text": [
            "{'amount': 1.0, 'base': 'USD', 'date': '2021-09-16', 'rates': {'EUR': 0.85012}}\n"
          ]
        }
      ]
    },
    {
      "cell_type": "code",
      "metadata": {
        "colab": {
          "base_uri": "https://localhost:8080/"
        },
        "id": "IPEGe0PY-wAT",
        "outputId": "74d25aab-2b70-44f5-d905-34af18f067fd"
      },
      "source": [
        "print(\"input the amount of USD currency\")\n",
        "usd =float(input())\n",
        "eur =float(data['rates']['EUR'])\n",
        "if usd >0:\n",
        "  x = usd*eur\n",
        "  print(x)\n",
        "else:\n",
        "  print(\"not allowed\")\n",
        "\n"
      ],
      "execution_count": null,
      "outputs": [
        {
          "output_type": "stream",
          "name": "stdout",
          "text": [
            "input the amount of USD currency\n",
            "10\n",
            "8.5012\n"
          ]
        }
      ]
    }
  ]
}