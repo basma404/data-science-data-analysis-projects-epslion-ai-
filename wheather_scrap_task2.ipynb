{
  "nbformat": 4,
  "nbformat_minor": 0,
  "metadata": {
    "colab": {
      "provenance": [],
      "collapsed_sections": []
    },
    "kernelspec": {
      "name": "python3",
      "display_name": "Python 3"
    },
    "language_info": {
      "name": "python"
    }
  },
  "cells": [
    {
      "cell_type": "code",
      "metadata": {
        "id": "Hgo1eAwo29NH"
      },
      "source": [
        "import requests\n",
        "from bs4 import BeautifulSoup\n",
        "import csv\n",
        "from datetime import datetime\n",
        "import time"
      ],
      "execution_count": null,
      "outputs": []
    },
    {
      "cell_type": "code",
      "metadata": {
        "id": "7wJAcqLK41G3"
      },
      "source": [
        "response=requests.get('https://eg.freemeteo.com/weather/cairo/current-weather/location/?gid=360630&language=english&country=egypt')\n",
        "data=response.text\n",
        "print(data)"
      ],
      "execution_count": null,
      "outputs": []
    },
    {
      "cell_type": "code",
      "metadata": {
        "id": "kcvclaCN7f-8"
      },
      "source": [
        "soup=BeautifulSoup(response.text,'html.parser')\n"
      ],
      "execution_count": null,
      "outputs": []
    },
    {
      "cell_type": "code",
      "metadata": {
        "colab": {
          "base_uri": "https://localhost:8080/",
          "height": 35
        },
        "id": "pldIWLWE7vUs",
        "outputId": "fe8fb0a9-1ddc-4cca-9cfc-9798423f631e"
      },
      "source": [
        "temp=soup.find(attrs={'class':\"temp\"})\n",
        "temp.text"
      ],
      "execution_count": null,
      "outputs": [
        {
          "output_type": "execute_result",
          "data": {
            "application/vnd.google.colaboratory.intrinsic+json": {
              "type": "string"
            },
            "text/plain": [
              "'23°C'"
            ]
          },
          "metadata": {},
          "execution_count": 23
        }
      ]
    },
    {
      "cell_type": "code",
      "metadata": {
        "id": "jKzWGkFw87lk"
      },
      "source": [
        "humidty=soup.find('div',attrs={'class':\"stats\"}).text.split('|')[0].split()[2]"
      ],
      "execution_count": null,
      "outputs": []
    },
    {
      "cell_type": "code",
      "metadata": {
        "colab": {
          "base_uri": "https://localhost:8080/",
          "height": 35
        },
        "id": "fGiLsBc5ZHQB",
        "outputId": "5f832bf1-1904-4880-c0d2-2b5907302b5a"
      },
      "source": [
        "visibility=soup.find('div',attrs={'class':\"stats\"}).text.split('|')[1]\n",
        "visibility.split()[2]"
      ],
      "execution_count": null,
      "outputs": [
        {
          "output_type": "execute_result",
          "data": {
            "application/vnd.google.colaboratory.intrinsic+json": {
              "type": "string"
            },
            "text/plain": [
              "'10000m'"
            ]
          },
          "metadata": {},
          "execution_count": 11
        }
      ]
    },
    {
      "cell_type": "code",
      "metadata": {
        "colab": {
          "base_uri": "https://localhost:8080/",
          "height": 35
        },
        "id": "VuR_TOp3e6YJ",
        "outputId": "f0eaaee7-6dba-4a1e-84c7-bed00b0273d0"
      },
      "source": [
        "air_pressure=soup.find('div',attrs={'class':\"stats\"}).text.split('|')[2]\n",
        "air_pressure.split()[1]"
      ],
      "execution_count": null,
      "outputs": [
        {
          "output_type": "execute_result",
          "data": {
            "application/vnd.google.colaboratory.intrinsic+json": {
              "type": "string"
            },
            "text/plain": [
              "'1012.0mb'"
            ]
          },
          "metadata": {},
          "execution_count": 32
        }
      ]
    },
    {
      "cell_type": "code",
      "metadata": {
        "colab": {
          "base_uri": "https://localhost:8080/",
          "height": 35
        },
        "id": "xQ9PabyWffn3",
        "outputId": "dd7029ba-37f0-4423-b740-0e3fc5cbd576"
      },
      "source": [
        "wind_speed=soup.find(span='',attrs={'class':\"white\"})\n",
        "wind_speed.text.split()[1]"
      ],
      "execution_count": null,
      "outputs": [
        {
          "output_type": "execute_result",
          "data": {
            "application/vnd.google.colaboratory.intrinsic+json": {
              "type": "string"
            },
            "text/plain": [
              "'15'"
            ]
          },
          "metadata": {},
          "execution_count": 28
        }
      ]
    },
    {
      "cell_type": "code",
      "metadata": {
        "id": "-uUQmqaIfoz2"
      },
      "source": [
        "time=soup.find(span='',attrs={'class':\"time-part\"})\n",
        "time"
      ],
      "execution_count": null,
      "outputs": []
    },
    {
      "cell_type": "code",
      "metadata": {
        "id": "LOTUu6ZhhzE9"
      },
      "source": [
        "date=soup.find(span='',attrs={'class':\"date-part\"})\n",
        "date"
      ],
      "execution_count": null,
      "outputs": []
    },
    {
      "cell_type": "code",
      "metadata": {
        "colab": {
          "base_uri": "https://localhost:8080/"
        },
        "id": "1orHt6NsmZTe",
        "outputId": "8b8c5a07-d3b9-46a9-c320-8de3890aae1c"
      },
      "source": [
        "\n",
        "file_name=soup.find('title').text.split('|')[1]\n",
        "print(file_name)"
      ],
      "execution_count": null,
      "outputs": [
        {
          "output_type": "stream",
          "name": "stdout",
          "text": [
            " eg.freemeteo.com\n"
          ]
        }
      ]
    },
    {
      "cell_type": "code",
      "metadata": {
        "colab": {
          "base_uri": "https://localhost:8080/",
          "height": 35
        },
        "id": "RXhQ9kPaKyCT",
        "outputId": "85314bab-0b54-405e-8a5b-4b7edf3a68ec"
      },
      "source": [
        "now = datetime.now()\n",
        "time = now.strftime(\"%d/%m/%Y %H:%M:%S\")\n",
        "time"
      ],
      "execution_count": null,
      "outputs": [
        {
          "output_type": "execute_result",
          "data": {
            "application/vnd.google.colaboratory.intrinsic+json": {
              "type": "string"
            },
            "text/plain": [
              "'25/09/2021 23:33:11'"
            ]
          },
          "metadata": {},
          "execution_count": 40
        }
      ]
    },
    {
      "cell_type": "code",
      "metadata": {
        "id": "2lNxcG2XK53m"
      },
      "source": [
        " with open('weather.csv', 'w') as w:\n",
        "   headers = ['temp', 'wind_speed', 'humidity', 'visibility', 'air_presure', 'time_now']\n",
        "   writer = csv.DictWriter(w, fieldnames= ['temp', 'wind_speed', 'humidity', 'visibility', 'air_presure', 'time_now'])\n",
        "   writer.writeheader()\n",
        "   for i in range (10):\n",
        "        response=requests.get('https://eg.freemeteo.com/weather/cairo/current-weather/location/?gid=360630&language=english&country=egypt')\n",
        "        data=response.text\n",
        "        soup=BeautifulSoup(response.text,'html.parser')\n",
        "        temp=soup.find(attrs={'class':\"temp\"}).text\n",
        "        humidty=soup.find('div',attrs={'class':\"stats\"}).text.split('|')[0].split()[2] \n",
        "        visibility=soup.find('div',attrs={'class':\"stats\"}).text.split('|')[1].split()[2]\n",
        "        air_presure=soup.find('div',attrs={'class':\"stats\"}).text.split('|')[2].split()[1]\n",
        "        wind_speed=soup.find(span='',attrs={'class':\"white\"}).text.split()[1]\n",
        "        now = datetime.now()\n",
        "        time_now = now.strftime(\"%d/%m/%Y %H:%M:%S\")\n",
        "\n",
        "        output = {'temp': temp, 'wind_speed': wind_speed, 'humidity': humidity, 'visibility': visibility, 'air_presure': air_presure, 'time_now': time_now}\n",
        "        writer.writerow(output)\n",
        "        i+1\n",
        "        time_now\n",
        "        time.sleep(60)   "
      ],
      "execution_count": null,
      "outputs": []
    },
    {
      "cell_type": "code",
      "metadata": {
        "colab": {
          "base_uri": "https://localhost:8080/",
          "height": 359
        },
        "id": "IPgUVB07W2AO",
        "outputId": "65f14132-e925-4f1f-e3f5-d8fa46c68f25"
      },
      "source": [
        "import pandas as pd\n",
        "d = pd.read_csv('weather.csv')\n",
        "d"
      ],
      "execution_count": null,
      "outputs": [
        {
          "output_type": "execute_result",
          "data": {
            "text/html": [
              "<div>\n",
              "<style scoped>\n",
              "    .dataframe tbody tr th:only-of-type {\n",
              "        vertical-align: middle;\n",
              "    }\n",
              "\n",
              "    .dataframe tbody tr th {\n",
              "        vertical-align: top;\n",
              "    }\n",
              "\n",
              "    .dataframe thead th {\n",
              "        text-align: right;\n",
              "    }\n",
              "</style>\n",
              "<table border=\"1\" class=\"dataframe\">\n",
              "  <thead>\n",
              "    <tr style=\"text-align: right;\">\n",
              "      <th></th>\n",
              "      <th>temp</th>\n",
              "      <th>wind_speed</th>\n",
              "      <th>humidity</th>\n",
              "      <th>visibility</th>\n",
              "      <th>air_presure</th>\n",
              "      <th>time_now</th>\n",
              "    </tr>\n",
              "  </thead>\n",
              "  <tbody>\n",
              "    <tr>\n",
              "      <th>0</th>\n",
              "      <td>22°C</td>\n",
              "      <td>19</td>\n",
              "      <td>69.0</td>\n",
              "      <td>10000m</td>\n",
              "      <td>1015.0mb</td>\n",
              "      <td>26/09/2021 00:06:03</td>\n",
              "    </tr>\n",
              "    <tr>\n",
              "      <th>1</th>\n",
              "      <td>22°C</td>\n",
              "      <td>19</td>\n",
              "      <td>69.0</td>\n",
              "      <td>10000m</td>\n",
              "      <td>1015.0mb</td>\n",
              "      <td>26/09/2021 00:07:03</td>\n",
              "    </tr>\n",
              "    <tr>\n",
              "      <th>2</th>\n",
              "      <td>22°C</td>\n",
              "      <td>19</td>\n",
              "      <td>69.0</td>\n",
              "      <td>10000m</td>\n",
              "      <td>1015.0mb</td>\n",
              "      <td>26/09/2021 00:08:05</td>\n",
              "    </tr>\n",
              "    <tr>\n",
              "      <th>3</th>\n",
              "      <td>22°C</td>\n",
              "      <td>19</td>\n",
              "      <td>69.0</td>\n",
              "      <td>10000m</td>\n",
              "      <td>1015.0mb</td>\n",
              "      <td>26/09/2021 00:09:05</td>\n",
              "    </tr>\n",
              "    <tr>\n",
              "      <th>4</th>\n",
              "      <td>22°C</td>\n",
              "      <td>19</td>\n",
              "      <td>69.0</td>\n",
              "      <td>10000m</td>\n",
              "      <td>1015.0mb</td>\n",
              "      <td>26/09/2021 00:10:06</td>\n",
              "    </tr>\n",
              "    <tr>\n",
              "      <th>5</th>\n",
              "      <td>22°C</td>\n",
              "      <td>19</td>\n",
              "      <td>69.0</td>\n",
              "      <td>10000m</td>\n",
              "      <td>1015.0mb</td>\n",
              "      <td>26/09/2021 00:11:08</td>\n",
              "    </tr>\n",
              "    <tr>\n",
              "      <th>6</th>\n",
              "      <td>22°C</td>\n",
              "      <td>19</td>\n",
              "      <td>69.0</td>\n",
              "      <td>10000m</td>\n",
              "      <td>1015.0mb</td>\n",
              "      <td>26/09/2021 00:12:09</td>\n",
              "    </tr>\n",
              "    <tr>\n",
              "      <th>7</th>\n",
              "      <td>22°C</td>\n",
              "      <td>19</td>\n",
              "      <td>69.0</td>\n",
              "      <td>10000m</td>\n",
              "      <td>1015.0mb</td>\n",
              "      <td>26/09/2021 00:13:09</td>\n",
              "    </tr>\n",
              "    <tr>\n",
              "      <th>8</th>\n",
              "      <td>22°C</td>\n",
              "      <td>19</td>\n",
              "      <td>69.0</td>\n",
              "      <td>10000m</td>\n",
              "      <td>1015.0mb</td>\n",
              "      <td>26/09/2021 00:14:11</td>\n",
              "    </tr>\n",
              "    <tr>\n",
              "      <th>9</th>\n",
              "      <td>22°C</td>\n",
              "      <td>19</td>\n",
              "      <td>69.0</td>\n",
              "      <td>10000m</td>\n",
              "      <td>1015.0mb</td>\n",
              "      <td>26/09/2021 00:15:11</td>\n",
              "    </tr>\n",
              "  </tbody>\n",
              "</table>\n",
              "</div>"
            ],
            "text/plain": [
              "   temp  wind_speed  humidity visibility air_presure             time_now\n",
              "0  22°C          19      69.0     10000m    1015.0mb  26/09/2021 00:06:03\n",
              "1  22°C          19      69.0     10000m    1015.0mb  26/09/2021 00:07:03\n",
              "2  22°C          19      69.0     10000m    1015.0mb  26/09/2021 00:08:05\n",
              "3  22°C          19      69.0     10000m    1015.0mb  26/09/2021 00:09:05\n",
              "4  22°C          19      69.0     10000m    1015.0mb  26/09/2021 00:10:06\n",
              "5  22°C          19      69.0     10000m    1015.0mb  26/09/2021 00:11:08\n",
              "6  22°C          19      69.0     10000m    1015.0mb  26/09/2021 00:12:09\n",
              "7  22°C          19      69.0     10000m    1015.0mb  26/09/2021 00:13:09\n",
              "8  22°C          19      69.0     10000m    1015.0mb  26/09/2021 00:14:11\n",
              "9  22°C          19      69.0     10000m    1015.0mb  26/09/2021 00:15:11"
            ]
          },
          "metadata": {},
          "execution_count": 67
        }
      ]
    }
  ]
}